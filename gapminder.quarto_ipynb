{
  "cells": [
    {
      "cell_type": "markdown",
      "metadata": {},
      "source": [
        "# Pruebas con gapminder\n",
        "\n",
        "## Probando el editor de quarto\n"
      ],
      "id": "7e9c4912"
    },
    {
      "cell_type": "code",
      "metadata": {},
      "source": [
        "import pandas as pd\n",
        "\n",
        "pd.DataFrame([1,2,3])"
      ],
      "id": "0c3069af",
      "execution_count": null,
      "outputs": []
    },
    {
      "cell_type": "markdown",
      "metadata": {},
      "source": [
        "## Gapminder\n"
      ],
      "id": "574e5dd3"
    },
    {
      "cell_type": "code",
      "metadata": {},
      "source": [
        "import plotly.express as px\n",
        "fig = px.bar(x=[\"a\", \"b\", \"c\"], y=[1, 3, 2])\n",
        "fig.write_html('first_figure.html', auto_open=True)"
      ],
      "id": "18767711",
      "execution_count": null,
      "outputs": []
    }
  ],
  "metadata": {
    "kernelspec": {
      "name": "python3",
      "language": "python",
      "display_name": "Python 3 (ipykernel)",
      "path": "/usr/local/share/jupyter/kernels/python3"
    }
  },
  "nbformat": 4,
  "nbformat_minor": 5
}